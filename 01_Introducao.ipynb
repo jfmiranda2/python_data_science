{
  "nbformat": 4,
  "nbformat_minor": 0,
  "metadata": {
    "colab": {
      "provenance": [],
      "mount_file_id": "1-Ir_VkvvwAtNV7KCKHj1w6JyprmcGCfh",
      "authorship_tag": "ABX9TyOP0U59gs7DQC+6cVlZV1tV",
      "include_colab_link": true
    },
    "kernelspec": {
      "name": "python3",
      "display_name": "Python 3"
    },
    "language_info": {
      "name": "python"
    }
  },
  "cells": [
    {
      "cell_type": "markdown",
      "metadata": {
        "id": "view-in-github",
        "colab_type": "text"
      },
      "source": [
        "<a href=\"https://colab.research.google.com/github/jfmiranda2/python_data_science/blob/main/01_Introducao.ipynb\" target=\"_parent\"><img src=\"https://colab.research.google.com/assets/colab-badge.svg\" alt=\"Open In Colab\"/></a>"
      ]
    },
    {
      "cell_type": "code",
      "execution_count": null,
      "metadata": {
        "id": "ihMe__IAcmjc"
      },
      "outputs": [],
      "source": [
        "print('Olá mundo')"
      ]
    }
  ]
}